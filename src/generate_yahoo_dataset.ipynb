{
 "cells": [
  {
   "cell_type": "code",
   "execution_count": 25,
   "metadata": {},
   "outputs": [
    {
     "name": "stderr",
     "output_type": "stream",
     "text": [
      "Downloading data: 100%|██████████| 49.4M/49.4M [00:45<00:00, 1.08MB/s]\n",
      "Generating train split: 100%|██████████| 87362/87362 [00:03<00:00, 25752.52 examples/s]"
     ]
    },
    {
     "name": "stdout",
     "output_type": "stream",
     "text": [
      "Number of training examples: 69889\n",
      "Number of testing examples: 17473\n"
     ]
    },
    {
     "name": "stderr",
     "output_type": "stream",
     "text": [
      "\n"
     ]
    }
   ],
   "source": [
    "from datasets import load_dataset\n",
    "\n",
    "# Load the dataset\n",
    "dataset = load_dataset('yahoo_answers_qa', cache_dir=\"../datasets/yahoo_cache\", trust_remote_code=True)\n",
    "\n",
    "# Split the dataset into train and test (80% train, 20% test)\n",
    "split_datasets = dataset['train'].train_test_split(test_size=0.2, seed=42)\n",
    "\n",
    "# Access the train and test splits\n",
    "train_dataset = split_datasets['train']\n",
    "test_dataset = split_datasets['test']\n",
    "\n",
    "# Print the number of examples in each split\n",
    "print(f\"Number of training examples: {len(train_dataset)}\")\n",
    "print(f\"Number of testing examples: {len(test_dataset)}\")"
   ]
  },
  {
   "cell_type": "code",
   "execution_count": null,
   "metadata": {},
   "outputs": [
    {
     "data": {
      "text/plain": [
       "{'id': '2595789',\n",
       " 'question': 'Why does the U.S. Government forbid the export of powerful encryption tools?',\n",
       " 'answer': \"The answer is obvious.. . It's because ^%&%$&^$&%£%&^*&*  hgvfjhjh ^%776576&*900. FJHf (*6986ymn kl/h,.. . I hope that helps.\",\n",
       " 'nbestanswers': [\"At a guess, I'd say it's basically  so enemy countries can't get their hands on it, and give the US Intelligeance agencies a hard time keeping tabs on what those enemy countries are plotting.\",\n",
       "  \"The answer is obvious.. . It's because ^%&%$&^$&%£%&^*&*  hgvfjhjh ^%776576&*900. FJHf (*6986ymn kl/h,.. . I hope that helps.\",\n",
       "  'The Federal Government has already promoted the development of secure cryptographic processes for governmental purposes since the 1950s with considerable resources. The results thereof have, in the interim, already to a large extent flowed into civil uses. . . Secure cryptographic processes for the purpose of: . . Digital Signatures (Electronic Signatures), . Identifications/Authentifications and Access Control (e.g., as a \"Digital Identification Card\" in networks), and . Encryption . constitute the basic requirement for effective data security and effective data protection in the use of information technology in world-wide networks. The new technology therefore does exist. . . The Federal Government is presently examining the extent to which in the future an electronic document with an electronic signature should be legally equated with a written document with a hand-written signature. . . Otherwise reference is made to BT-Drücksache 13/1889. . . 1. Are there official contacts between employees of the Bundesamt für Sicherheit in der Informationstechnik (BSI) and employees of the National Security Agency (NSA)? If yes, in what bodies, for what purpose, and when and on which occasion did the last such meeting take place? . . 2. Which official contacts where there between the NSA and employees of the former Zentralstelle für das Chiffrierwesen (ZfCh), and to what extent are these maintained today by the BSI? . . Like the BSI and the agencies which were its predecessors, the NSA is responsible for development and approval of encryption systems with regard to state secrets. There therefore is and was a regular multilateral exchange of views. The last meeting occurred on March 1, 1996 in the scope of co-operation of the BSI with NIST, NSA and the corresponding agencies in Canada, the UK, France, and the Netherlands for further development of the European IT-Security criteria (ITSEC) for \"common criteria\". . . 3. With which companies did the ZfCh co-operate with regard to development of encryption technologies and with which ones does the BSI co-operate today? . . The ZfCh and the BSI worked and co-operate as a matter of principle with all German encryption manufacturers. . . 4. Was there or is there also co-operation with various companies and manufacturers of devices and systems for electronic battle management (Elektronische Kampfführung)? If yes, for what purpose? . . Yes, the co-operation for the most part furthers the development of cryptographic devices for the protection of state secrets. . . 5. Is it true that a new, more powerful mainframe computer is to be obtained for the BSI? If yes, for what purpose is this computer required? . . Yes. It is to further the development and examination of cryptographic algorithms (e.g. for encryption of digital signatures). . . 6. To what extent is the export of encryption systems in the Federal Government of Germany subject to export restrictions and to what extent does the BSI take part in the granting of export licences or did the former ZfCh take part therein? . . In Germany encryption systems are, just as in other member states of the EU, subject largely to a duty to obtain export permits because they can be used for dual purposes. The corresponding equipment, components, parts, major examination, test, and manufacturing components, computer programmes and technology are listed individually in the export list (Appendix to the Außenwirtschaftsverordnung) in Part 1 C, paragraph 5 part 2 \"Information Security\". The approving agency is directed (with few exceptions, for example with regard to ATM machines) to present all applications for such export permits to the BSI for professional examination. Such examination was earlier carried out by the ZfCh. . . 7. Does the Federal Government intend to introduce regulatory changes regarding the granting of export licences? . . The German export control system was changed both in its legal norms and also adminis'],\n",
       " 'main_category': 'Computers & Internet'}"
      ]
     },
     "execution_count": 17,
     "metadata": {},
     "output_type": "execute_result"
    }
   ],
   "source": [
    "train_dataset[0] "
   ]
  },
  {
   "cell_type": "code",
   "execution_count": 26,
   "metadata": {},
   "outputs": [
    {
     "name": "stdout",
     "output_type": "stream",
     "text": [
      "Generate dataset for QUESTION ANSWER PROBLEM\n"
     ]
    },
    {
     "name": "stderr",
     "output_type": "stream",
     "text": [
      "Saving the dataset (1/1 shards): 100%|██████████| 69889/69889 [00:00<00:00, 1677668.79 examples/s]\n"
     ]
    },
    {
     "name": "stdout",
     "output_type": "stream",
     "text": [
      "First five samples in the training dataset\n",
      "                                            question  \\\n",
      "0  Why does the U.S. Government forbid the export...   \n",
      "1  how do i get the black chocobo in final fantas...   \n",
      "2  How can the existence of God be fully proved s...   \n",
      "3                    How do you get the perfect Tan?   \n",
      "4  What could a teacher do in the mid 1800's to t...   \n",
      "\n",
      "                                              answer          main_category  \n",
      "0  The answer is obvious.. . It's because ^%&%$&^...   Computers & Internet  \n",
      "1  They're in the forests later in the game. Gett...     Games & Recreation  \n",
      "2  You can not prove or UNprove the existance of ...      Arts & Humanities  \n",
      "3  Be natural and different!. Every ones so tango...                 Health  \n",
      "4  You mean like spank kids?. . Is this a questio...  Education & Reference  \n"
     ]
    },
    {
     "name": "stderr",
     "output_type": "stream",
     "text": [
      "Saving the dataset (1/1 shards): 100%|██████████| 17473/17473 [00:00<00:00, 1184284.44 examples/s]"
     ]
    },
    {
     "name": "stdout",
     "output_type": "stream",
     "text": [
      "First five samples in the test dataset\n",
      "                                            question  \\\n",
      "0  What is the easiest, cheapest way to transfer ...   \n",
      "1                  what are mean by risk assessment?   \n",
      "2                        What is sudoku chain logic?   \n",
      "3                           How to reset NOKIA 6111?   \n",
      "4  wt's the difference between database design an...   \n",
      "\n",
      "                                              answer          main_category  \n",
      "0  You can go to Walmart and purchase a scanner f...      Arts & Humanities  \n",
      "1  Yes, especially new projects or greatly change...  Science & Mathematics  \n",
      "2  When you input a number that is correct this m...     Games & Recreation  \n",
      "3  You cannot do this online. You have to visit a...   Consumer Electronics  \n",
      "4  The database design in it most concrete form i...   Computers & Internet  \n",
      "Done!\n"
     ]
    },
    {
     "name": "stderr",
     "output_type": "stream",
     "text": [
      "\n"
     ]
    }
   ],
   "source": [
    "import pandas as pd\n",
    "from datasets import Dataset\n",
    "\n",
    "def generate_yahoo_dataset(train_dataset, test_dataset):\n",
    "    print('Generate dataset for QUESTION ANSWER PROBLEM')\n",
    "    train_df = []\n",
    "    test_df = []\n",
    "    used_entities = set()\n",
    "    train_df = pd.DataFrame(train_dataset.to_dict())[[\"question\", \"answer\", \"main_category\"]]\n",
    "    test_df = pd.DataFrame(test_dataset.to_dict())[[\"question\", \"answer\", \"main_category\"]]\n",
    "\n",
    "    train_df = pd.DataFrame(train_df, columns=[\"question\", \"answer\", \"main_category\"])\n",
    "    test_df = pd.DataFrame(test_df, columns=[\"question\", \"answer\", \"main_category\"])\n",
    "\n",
    "    train_dataset = Dataset.from_pandas(train_df)\n",
    "    train_dataset.save_to_disk(\"../datasets/yahoo_train.hf\")\n",
    "    print('First five samples in the training dataset')\n",
    "    print(train_df.head(5))\n",
    "    test_dataset = Dataset.from_pandas(test_df)\n",
    "    test_dataset.save_to_disk(\"../datasets/yahoo_test.hf\")\n",
    "    print('First five samples in the test dataset')\n",
    "    print(test_df.head(5))\n",
    "    print('Done!')\n",
    "\n",
    "generate_yahoo_dataset(train_dataset, test_dataset)"
   ]
  },
  {
   "cell_type": "code",
   "execution_count": 20,
   "metadata": {},
   "outputs": [],
   "source": [
    "!ls test"
   ]
  },
  {
   "cell_type": "code",
   "execution_count": null,
   "metadata": {},
   "outputs": [],
   "source": []
  }
 ],
 "metadata": {
  "kernelspec": {
   "display_name": "sisa_test",
   "language": "python",
   "name": "python3"
  },
  "language_info": {
   "codemirror_mode": {
    "name": "ipython",
    "version": 3
   },
   "file_extension": ".py",
   "mimetype": "text/x-python",
   "name": "python",
   "nbconvert_exporter": "python",
   "pygments_lexer": "ipython3",
   "version": "3.12.7"
  }
 },
 "nbformat": 4,
 "nbformat_minor": 2
}
